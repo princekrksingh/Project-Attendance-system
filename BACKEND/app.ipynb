{
 "cells": [
  {
   "cell_type": "code",
   "execution_count": 1,
   "id": "empty-traveler",
   "metadata": {},
   "outputs": [
    {
     "name": "stdout",
     "output_type": "stream",
     "text": [
      " * Serving Flask app \"__main__\" (lazy loading)\n",
      " * Environment: production\n",
      "   WARNING: This is a development server. Do not use it in a production deployment.\n",
      "   Use a production WSGI server instead.\n",
      " * Debug mode: off\n"
     ]
    },
    {
     "name": "stderr",
     "output_type": "stream",
     "text": [
      " * Running on http://127.0.0.1:5000/ (Press CTRL+C to quit)\n",
      "127.0.0.1 - - [04/Jun/2021 12:58:13] \"\u001b[37mPOST /add_employee HTTP/1.1\u001b[0m\" 200 -\n"
     ]
    },
    {
     "name": "stdout",
     "output_type": "stream",
     "text": [
      "Prince Kumar\n"
     ]
    },
    {
     "name": "stderr",
     "output_type": "stream",
     "text": [
      "127.0.0.1 - - [04/Jun/2021 12:58:42] \"\u001b[37mPOST /add_employee HTTP/1.1\u001b[0m\" 200 -\n"
     ]
    },
    {
     "name": "stdout",
     "output_type": "stream",
     "text": [
      "Govind Tripathi\n"
     ]
    },
    {
     "name": "stderr",
     "output_type": "stream",
     "text": [
      "127.0.0.1 - - [04/Jun/2021 12:58:44] \"\u001b[37mPOST /add_employee HTTP/1.1\u001b[0m\" 200 -\n"
     ]
    },
    {
     "name": "stdout",
     "output_type": "stream",
     "text": [
      "Govind Tripathi\n"
     ]
    },
    {
     "name": "stderr",
     "output_type": "stream",
     "text": [
      "127.0.0.1 - - [04/Jun/2021 12:58:47] \"\u001b[37mPOST /add_employee HTTP/1.1\u001b[0m\" 200 -\n"
     ]
    },
    {
     "name": "stdout",
     "output_type": "stream",
     "text": [
      "Govind Tripathi\n"
     ]
    },
    {
     "name": "stderr",
     "output_type": "stream",
     "text": [
      "127.0.0.1 - - [04/Jun/2021 12:58:51] \"\u001b[37mPOST /add_employee HTTP/1.1\u001b[0m\" 200 -\n"
     ]
    },
    {
     "name": "stdout",
     "output_type": "stream",
     "text": [
      "Govind Tripathi\n"
     ]
    },
    {
     "name": "stderr",
     "output_type": "stream",
     "text": [
      "127.0.0.1 - - [04/Jun/2021 12:58:57] \"\u001b[37mPOST /add_employee HTTP/1.1\u001b[0m\" 200 -\n",
      "127.0.0.1 - - [04/Jun/2021 12:58:57] \"\u001b[37mPOST /add_employee HTTP/1.1\u001b[0m\" 200 -\n"
     ]
    },
    {
     "name": "stdout",
     "output_type": "stream",
     "text": [
      "Govind Tripathi\n",
      "Govind Tripathi\n"
     ]
    },
    {
     "name": "stderr",
     "output_type": "stream",
     "text": [
      "127.0.0.1 - - [04/Jun/2021 12:58:58] \"\u001b[37mPOST /add_employee HTTP/1.1\u001b[0m\" 200 -\n",
      "127.0.0.1 - - [04/Jun/2021 12:58:58] \"\u001b[37mPOST /add_employee HTTP/1.1\u001b[0m\" 200 -\n"
     ]
    },
    {
     "name": "stdout",
     "output_type": "stream",
     "text": [
      "Govind Tripathi\n",
      "Govind Tripathi\n"
     ]
    },
    {
     "name": "stderr",
     "output_type": "stream",
     "text": [
      "127.0.0.1 - - [04/Jun/2021 12:59:03] \"\u001b[37mPOST /add_employee HTTP/1.1\u001b[0m\" 200 -\n",
      "127.0.0.1 - - [04/Jun/2021 12:59:03] \"\u001b[37mPOST /add_employee HTTP/1.1\u001b[0m\" 200 -\n"
     ]
    },
    {
     "name": "stdout",
     "output_type": "stream",
     "text": [
      "Govind Tripathi\n",
      "Govind Tripathi\n"
     ]
    },
    {
     "name": "stderr",
     "output_type": "stream",
     "text": [
      "127.0.0.1 - - [04/Jun/2021 12:59:03] \"\u001b[37mPOST /add_employee HTTP/1.1\u001b[0m\" 200 -\n"
     ]
    },
    {
     "name": "stdout",
     "output_type": "stream",
     "text": [
      "Govind Tripathi\n"
     ]
    },
    {
     "name": "stderr",
     "output_type": "stream",
     "text": [
      "127.0.0.1 - - [04/Jun/2021 12:59:16] \"\u001b[37mPOST /add_employee HTTP/1.1\u001b[0m\" 200 -\n"
     ]
    },
    {
     "name": "stdout",
     "output_type": "stream",
     "text": [
      "Govind\n"
     ]
    },
    {
     "name": "stderr",
     "output_type": "stream",
     "text": [
      "127.0.0.1 - - [04/Jun/2021 12:59:17] \"\u001b[37mPOST /add_employee HTTP/1.1\u001b[0m\" 200 -\n",
      "127.0.0.1 - - [04/Jun/2021 12:59:17] \"\u001b[37mPOST /add_employee HTTP/1.1\u001b[0m\" 200 -\n"
     ]
    },
    {
     "name": "stdout",
     "output_type": "stream",
     "text": [
      "Govind\n",
      "Govind\n"
     ]
    },
    {
     "name": "stderr",
     "output_type": "stream",
     "text": [
      "127.0.0.1 - - [04/Jun/2021 12:59:17] \"\u001b[37mPOST /add_employee HTTP/1.1\u001b[0m\" 200 -\n"
     ]
    },
    {
     "name": "stdout",
     "output_type": "stream",
     "text": [
      "Govind\n"
     ]
    },
    {
     "name": "stderr",
     "output_type": "stream",
     "text": [
      "127.0.0.1 - - [04/Jun/2021 12:59:17] \"\u001b[37mPOST /add_employee HTTP/1.1\u001b[0m\" 200 -\n"
     ]
    },
    {
     "name": "stdout",
     "output_type": "stream",
     "text": [
      "Govind\n"
     ]
    },
    {
     "name": "stderr",
     "output_type": "stream",
     "text": [
      "127.0.0.1 - - [04/Jun/2021 12:59:18] \"\u001b[37mPOST /add_employee HTTP/1.1\u001b[0m\" 200 -\n"
     ]
    },
    {
     "name": "stdout",
     "output_type": "stream",
     "text": [
      "Govind\n"
     ]
    },
    {
     "name": "stderr",
     "output_type": "stream",
     "text": [
      "127.0.0.1 - - [04/Jun/2021 12:59:18] \"\u001b[37mPOST /add_employee HTTP/1.1\u001b[0m\" 200 -\n",
      "127.0.0.1 - - [04/Jun/2021 12:59:18] \"\u001b[37mPOST /add_employee HTTP/1.1\u001b[0m\" 200 -\n"
     ]
    },
    {
     "name": "stdout",
     "output_type": "stream",
     "text": [
      "Govind\n",
      "Govind\n"
     ]
    },
    {
     "name": "stderr",
     "output_type": "stream",
     "text": [
      "127.0.0.1 - - [04/Jun/2021 12:59:19] \"\u001b[37mPOST /add_employee HTTP/1.1\u001b[0m\" 200 -\n"
     ]
    },
    {
     "name": "stdout",
     "output_type": "stream",
     "text": [
      "Govind\n"
     ]
    },
    {
     "name": "stderr",
     "output_type": "stream",
     "text": [
      "127.0.0.1 - - [04/Jun/2021 12:59:25] \"\u001b[37mGET /get_employee_list HTTP/1.1\u001b[0m\" 200 -\n",
      "127.0.0.1 - - [04/Jun/2021 12:59:25] \"\u001b[31m\u001b[1mGET /receive_data HTTP/1.1\u001b[0m\" 405 -\n",
      "127.0.0.1 - - [04/Jun/2021 12:59:25] \"\u001b[37mGET /get_5_last_entries HTTP/1.1\u001b[0m\" 200 -\n",
      "127.0.0.1 - - [04/Jun/2021 12:59:25] \"\u001b[37mGET /get_5_last_entries HTTP/1.1\u001b[0m\" 200 -\n",
      "127.0.0.1 - - [04/Jun/2021 12:59:25] \"\u001b[37mGET /get_employee_list HTTP/1.1\u001b[0m\" 200 -\n",
      "127.0.0.1 - - [04/Jun/2021 12:59:25] \"\u001b[37mGET /get_employee_list HTTP/1.1\u001b[0m\" 200 -\n",
      "127.0.0.1 - - [04/Jun/2021 12:59:26] \"\u001b[37mGET /get_employee_list HTTP/1.1\u001b[0m\" 200 -\n",
      "127.0.0.1 - - [04/Jun/2021 12:59:26] \"\u001b[37mGET /get_employee_list HTTP/1.1\u001b[0m\" 200 -\n",
      "127.0.0.1 - - [04/Jun/2021 12:59:54] \"\u001b[37mPOST /add_employee HTTP/1.1\u001b[0m\" 200 -\n"
     ]
    },
    {
     "name": "stdout",
     "output_type": "stream",
     "text": [
      "Sunil\n"
     ]
    },
    {
     "name": "stderr",
     "output_type": "stream",
     "text": [
      "127.0.0.1 - - [04/Jun/2021 13:01:57] \"\u001b[37mGET /get_employee_list HTTP/1.1\u001b[0m\" 200 -\n",
      "127.0.0.1 - - [04/Jun/2021 13:01:57] \"\u001b[31m\u001b[1mGET /receive_data HTTP/1.1\u001b[0m\" 405 -\n",
      "127.0.0.1 - - [04/Jun/2021 13:01:57] \"\u001b[37mGET /get_5_last_entries HTTP/1.1\u001b[0m\" 200 -\n",
      "127.0.0.1 - - [04/Jun/2021 13:01:57] \"\u001b[37mGET /get_5_last_entries HTTP/1.1\u001b[0m\" 200 -\n",
      "127.0.0.1 - - [04/Jun/2021 13:01:57] \"\u001b[37mGET /get_employee_list HTTP/1.1\u001b[0m\" 200 -\n",
      "127.0.0.1 - - [04/Jun/2021 13:01:57] \"\u001b[37mGET /get_employee_list HTTP/1.1\u001b[0m\" 200 -\n",
      "127.0.0.1 - - [04/Jun/2021 13:01:58] \"\u001b[37mGET /get_employee_list HTTP/1.1\u001b[0m\" 200 -\n",
      "127.0.0.1 - - [04/Jun/2021 13:01:58] \"\u001b[37mGET /get_employee_list HTTP/1.1\u001b[0m\" 200 -\n",
      "127.0.0.1 - - [04/Jun/2021 13:04:00] \"\u001b[31m\u001b[1mGET /receive_data HTTP/1.1\u001b[0m\" 405 -\n",
      "127.0.0.1 - - [04/Jun/2021 13:04:01] \"\u001b[33mGET /favicon.ico HTTP/1.1\u001b[0m\" 404 -\n",
      "127.0.0.1 - - [04/Jun/2021 13:04:04] \"\u001b[31m\u001b[1mGET /receive_data HTTP/1.1\u001b[0m\" 405 -\n",
      "127.0.0.1 - - [04/Jun/2021 13:04:07] \"\u001b[31m\u001b[1mGET /receive_data HTTP/1.1\u001b[0m\" 405 -\n",
      "127.0.0.1 - - [04/Jun/2021 13:04:10] \"\u001b[31m\u001b[1mGET /receive_data HTTP/1.1\u001b[0m\" 405 -\n"
     ]
    },
    {
     "name": "stdout",
     "output_type": "stream",
     "text": [
      "user OUT\n"
     ]
    },
    {
     "name": "stderr",
     "output_type": "stream",
     "text": [
      "127.0.0.1 - - [04/Jun/2021 13:04:16] \"\u001b[33mGET / HTTP/1.1\u001b[0m\" 404 -\n"
     ]
    },
    {
     "name": "stdout",
     "output_type": "stream",
     "text": [
      "PostgreSQL connection is closed\n"
     ]
    },
    {
     "name": "stderr",
     "output_type": "stream",
     "text": [
      "127.0.0.1 - - [04/Jun/2021 13:04:16] \"\u001b[37mPOST /receive_data HTTP/1.1\u001b[0m\" 200 -\n"
     ]
    },
    {
     "name": "stdout",
     "output_type": "stream",
     "text": [
      "user IN\n"
     ]
    },
    {
     "name": "stderr",
     "output_type": "stream",
     "text": [
      "127.0.0.1 - - [04/Jun/2021 13:04:20] \"\u001b[37mPOST /receive_data HTTP/1.1\u001b[0m\" 200 -\n"
     ]
    },
    {
     "name": "stdout",
     "output_type": "stream",
     "text": [
      "PostgreSQL connection is closed\n"
     ]
    },
    {
     "name": "stderr",
     "output_type": "stream",
     "text": [
      "127.0.0.1 - - [04/Jun/2021 13:04:23] \"\u001b[37mGET /get_employee_list HTTP/1.1\u001b[0m\" 200 -\n",
      "127.0.0.1 - - [04/Jun/2021 13:04:23] \"\u001b[31m\u001b[1mGET /receive_data HTTP/1.1\u001b[0m\" 405 -\n",
      "127.0.0.1 - - [04/Jun/2021 13:04:23] \"\u001b[37mGET /get_5_last_entries HTTP/1.1\u001b[0m\" 200 -\n",
      "127.0.0.1 - - [04/Jun/2021 13:04:23] \"\u001b[37mGET /get_5_last_entries HTTP/1.1\u001b[0m\" 200 -\n",
      "127.0.0.1 - - [04/Jun/2021 13:04:23] \"\u001b[37mGET /get_employee_list HTTP/1.1\u001b[0m\" 200 -\n",
      "127.0.0.1 - - [04/Jun/2021 13:04:23] \"\u001b[37mGET /get_employee_list HTTP/1.1\u001b[0m\" 200 -\n",
      "127.0.0.1 - - [04/Jun/2021 13:04:24] \"\u001b[37mGET /get_employee_list HTTP/1.1\u001b[0m\" 200 -\n",
      "127.0.0.1 - - [04/Jun/2021 13:04:24] \"\u001b[37mGET /get_employee_list HTTP/1.1\u001b[0m\" 200 -\n"
     ]
    },
    {
     "name": "stdout",
     "output_type": "stream",
     "text": [
      "user IN\n",
      "PostgreSQL connection is closed\n"
     ]
    },
    {
     "name": "stderr",
     "output_type": "stream",
     "text": [
      "127.0.0.1 - - [04/Jun/2021 13:04:25] \"\u001b[37mPOST /receive_data HTTP/1.1\u001b[0m\" 200 -\n"
     ]
    },
    {
     "name": "stdout",
     "output_type": "stream",
     "text": [
      "user IN\n"
     ]
    },
    {
     "name": "stderr",
     "output_type": "stream",
     "text": [
      "127.0.0.1 - - [04/Jun/2021 13:04:29] \"\u001b[37mPOST /receive_data HTTP/1.1\u001b[0m\" 200 -\n"
     ]
    },
    {
     "name": "stdout",
     "output_type": "stream",
     "text": [
      "PostgreSQL connection is closed\n",
      "user IN\n",
      "PostgreSQL connection is closed\n"
     ]
    },
    {
     "name": "stderr",
     "output_type": "stream",
     "text": [
      "127.0.0.1 - - [04/Jun/2021 13:04:33] \"\u001b[37mPOST /receive_data HTTP/1.1\u001b[0m\" 200 -\n"
     ]
    },
    {
     "name": "stdout",
     "output_type": "stream",
     "text": [
      "user IN\n",
      "PostgreSQL connection is closed\n"
     ]
    },
    {
     "name": "stderr",
     "output_type": "stream",
     "text": [
      "127.0.0.1 - - [04/Jun/2021 13:04:36] \"\u001b[37mPOST /receive_data HTTP/1.1\u001b[0m\" 200 -\n"
     ]
    },
    {
     "name": "stdout",
     "output_type": "stream",
     "text": [
      "user IN\n",
      "PostgreSQL connection is closed\n"
     ]
    },
    {
     "name": "stderr",
     "output_type": "stream",
     "text": [
      "127.0.0.1 - - [04/Jun/2021 13:04:43] \"\u001b[37mPOST /receive_data HTTP/1.1\u001b[0m\" 200 -\n"
     ]
    },
    {
     "name": "stdout",
     "output_type": "stream",
     "text": [
      "user IN\n",
      "PostgreSQL connection is closed\n"
     ]
    },
    {
     "name": "stderr",
     "output_type": "stream",
     "text": [
      "127.0.0.1 - - [04/Jun/2021 13:04:50] \"\u001b[37mPOST /receive_data HTTP/1.1\u001b[0m\" 200 -\n"
     ]
    },
    {
     "name": "stdout",
     "output_type": "stream",
     "text": [
      "user IN\n",
      "PostgreSQL connection is closed\n"
     ]
    },
    {
     "name": "stderr",
     "output_type": "stream",
     "text": [
      "127.0.0.1 - - [04/Jun/2021 13:04:56] \"\u001b[37mPOST /receive_data HTTP/1.1\u001b[0m\" 200 -\n"
     ]
    },
    {
     "name": "stdout",
     "output_type": "stream",
     "text": [
      "user IN\n",
      "PostgreSQL connection is closed\n"
     ]
    },
    {
     "name": "stderr",
     "output_type": "stream",
     "text": [
      "127.0.0.1 - - [04/Jun/2021 13:05:00] \"\u001b[37mPOST /receive_data HTTP/1.1\u001b[0m\" 200 -\n"
     ]
    },
    {
     "name": "stdout",
     "output_type": "stream",
     "text": [
      "user IN\n"
     ]
    },
    {
     "name": "stderr",
     "output_type": "stream",
     "text": [
      "127.0.0.1 - - [04/Jun/2021 13:05:04] \"\u001b[37mPOST /receive_data HTTP/1.1\u001b[0m\" 200 -\n"
     ]
    },
    {
     "name": "stdout",
     "output_type": "stream",
     "text": [
      "PostgreSQL connection is closed\n",
      "user IN\n",
      "PostgreSQL connection is closed\n"
     ]
    },
    {
     "name": "stderr",
     "output_type": "stream",
     "text": [
      "127.0.0.1 - - [04/Jun/2021 13:05:08] \"\u001b[37mPOST /receive_data HTTP/1.1\u001b[0m\" 200 -\n"
     ]
    },
    {
     "name": "stdout",
     "output_type": "stream",
     "text": [
      "user IN\n",
      "PostgreSQL connection is closed\n"
     ]
    },
    {
     "name": "stderr",
     "output_type": "stream",
     "text": [
      "127.0.0.1 - - [04/Jun/2021 13:05:11] \"\u001b[37mPOST /receive_data HTTP/1.1\u001b[0m\" 200 -\n"
     ]
    },
    {
     "name": "stdout",
     "output_type": "stream",
     "text": [
      "user IN\n",
      "PostgreSQL connection is closed\n"
     ]
    },
    {
     "name": "stderr",
     "output_type": "stream",
     "text": [
      "127.0.0.1 - - [04/Jun/2021 13:05:15] \"\u001b[37mPOST /receive_data HTTP/1.1\u001b[0m\" 200 -\n"
     ]
    },
    {
     "name": "stdout",
     "output_type": "stream",
     "text": [
      "user IN\n",
      "PostgreSQL connection is closed\n"
     ]
    },
    {
     "name": "stderr",
     "output_type": "stream",
     "text": [
      "127.0.0.1 - - [04/Jun/2021 13:05:20] \"\u001b[37mPOST /receive_data HTTP/1.1\u001b[0m\" 200 -\n"
     ]
    },
    {
     "name": "stdout",
     "output_type": "stream",
     "text": [
      "user IN\n",
      "PostgreSQL connection is closed\n"
     ]
    },
    {
     "name": "stderr",
     "output_type": "stream",
     "text": [
      "127.0.0.1 - - [04/Jun/2021 13:05:24] \"\u001b[37mPOST /receive_data HTTP/1.1\u001b[0m\" 200 -\n"
     ]
    },
    {
     "name": "stdout",
     "output_type": "stream",
     "text": [
      "user IN\n",
      "PostgreSQL connection is closed\n"
     ]
    },
    {
     "name": "stderr",
     "output_type": "stream",
     "text": [
      "127.0.0.1 - - [04/Jun/2021 13:05:27] \"\u001b[37mPOST /receive_data HTTP/1.1\u001b[0m\" 200 -\n"
     ]
    },
    {
     "name": "stdout",
     "output_type": "stream",
     "text": [
      "user IN\n",
      "PostgreSQL connection is closed\n"
     ]
    },
    {
     "name": "stderr",
     "output_type": "stream",
     "text": [
      "127.0.0.1 - - [04/Jun/2021 13:05:31] \"\u001b[37mPOST /receive_data HTTP/1.1\u001b[0m\" 200 -\n"
     ]
    },
    {
     "name": "stdout",
     "output_type": "stream",
     "text": [
      "user IN\n",
      "PostgreSQL connection is closed\n"
     ]
    },
    {
     "name": "stderr",
     "output_type": "stream",
     "text": [
      "127.0.0.1 - - [04/Jun/2021 13:05:36] \"\u001b[37mPOST /receive_data HTTP/1.1\u001b[0m\" 200 -\n"
     ]
    },
    {
     "name": "stdout",
     "output_type": "stream",
     "text": [
      "user IN\n"
     ]
    },
    {
     "name": "stderr",
     "output_type": "stream",
     "text": [
      "127.0.0.1 - - [04/Jun/2021 13:05:40] \"\u001b[37mPOST /receive_data HTTP/1.1\u001b[0m\" 200 -\n"
     ]
    },
    {
     "name": "stdout",
     "output_type": "stream",
     "text": [
      "PostgreSQL connection is closed\n",
      "user IN\n",
      "PostgreSQL connection is closed\n"
     ]
    },
    {
     "name": "stderr",
     "output_type": "stream",
     "text": [
      "127.0.0.1 - - [04/Jun/2021 13:05:45] \"\u001b[37mPOST /receive_data HTTP/1.1\u001b[0m\" 200 -\n"
     ]
    },
    {
     "name": "stdout",
     "output_type": "stream",
     "text": [
      "user IN\n"
     ]
    },
    {
     "name": "stderr",
     "output_type": "stream",
     "text": [
      "127.0.0.1 - - [04/Jun/2021 13:05:49] \"\u001b[37mPOST /receive_data HTTP/1.1\u001b[0m\" 200 -\n"
     ]
    },
    {
     "name": "stdout",
     "output_type": "stream",
     "text": [
      "PostgreSQL connection is closed\n",
      "user IN\n"
     ]
    },
    {
     "name": "stderr",
     "output_type": "stream",
     "text": [
      "127.0.0.1 - - [04/Jun/2021 13:05:53] \"\u001b[37mPOST /receive_data HTTP/1.1\u001b[0m\" 200 -\n"
     ]
    },
    {
     "name": "stdout",
     "output_type": "stream",
     "text": [
      "PostgreSQL connection is closed\n",
      "user IN\n"
     ]
    },
    {
     "name": "stderr",
     "output_type": "stream",
     "text": [
      "127.0.0.1 - - [04/Jun/2021 13:05:56] \"\u001b[37mPOST /receive_data HTTP/1.1\u001b[0m\" 200 -\n"
     ]
    },
    {
     "name": "stdout",
     "output_type": "stream",
     "text": [
      "PostgreSQL connection is closed\n",
      "user IN\n",
      "PostgreSQL connection is closed\n"
     ]
    },
    {
     "name": "stderr",
     "output_type": "stream",
     "text": [
      "127.0.0.1 - - [04/Jun/2021 13:06:01] \"\u001b[37mPOST /receive_data HTTP/1.1\u001b[0m\" 200 -\n"
     ]
    },
    {
     "name": "stdout",
     "output_type": "stream",
     "text": [
      "user IN\n",
      "PostgreSQL connection is closed\n"
     ]
    },
    {
     "name": "stderr",
     "output_type": "stream",
     "text": [
      "127.0.0.1 - - [04/Jun/2021 13:06:05] \"\u001b[37mPOST /receive_data HTTP/1.1\u001b[0m\" 200 -\n"
     ]
    },
    {
     "name": "stdout",
     "output_type": "stream",
     "text": [
      "user IN\n",
      "PostgreSQL connection is closed\n"
     ]
    },
    {
     "name": "stderr",
     "output_type": "stream",
     "text": [
      "127.0.0.1 - - [04/Jun/2021 13:06:14] \"\u001b[37mPOST /receive_data HTTP/1.1\u001b[0m\" 200 -\n"
     ]
    },
    {
     "name": "stdout",
     "output_type": "stream",
     "text": [
      "user IN\n",
      "PostgreSQL connection is closed\n"
     ]
    },
    {
     "name": "stderr",
     "output_type": "stream",
     "text": [
      "127.0.0.1 - - [04/Jun/2021 13:06:18] \"\u001b[37mPOST /receive_data HTTP/1.1\u001b[0m\" 200 -\n"
     ]
    },
    {
     "name": "stdout",
     "output_type": "stream",
     "text": [
      "user IN\n"
     ]
    },
    {
     "name": "stderr",
     "output_type": "stream",
     "text": [
      "127.0.0.1 - - [04/Jun/2021 13:06:22] \"\u001b[37mPOST /receive_data HTTP/1.1\u001b[0m\" 200 -\n"
     ]
    },
    {
     "name": "stdout",
     "output_type": "stream",
     "text": [
      "PostgreSQL connection is closed\n",
      "user IN\n",
      "PostgreSQL connection is closed\n"
     ]
    },
    {
     "name": "stderr",
     "output_type": "stream",
     "text": [
      "127.0.0.1 - - [04/Jun/2021 13:06:28] \"\u001b[37mPOST /receive_data HTTP/1.1\u001b[0m\" 200 -\n"
     ]
    },
    {
     "name": "stdout",
     "output_type": "stream",
     "text": [
      "user IN\n",
      "PostgreSQL connection is closed\n"
     ]
    },
    {
     "name": "stderr",
     "output_type": "stream",
     "text": [
      "127.0.0.1 - - [04/Jun/2021 13:06:31] \"\u001b[37mPOST /receive_data HTTP/1.1\u001b[0m\" 200 -\n"
     ]
    },
    {
     "name": "stdout",
     "output_type": "stream",
     "text": [
      "user IN\n",
      "PostgreSQL connection is closed\n"
     ]
    },
    {
     "name": "stderr",
     "output_type": "stream",
     "text": [
      "127.0.0.1 - - [04/Jun/2021 13:06:37] \"\u001b[37mPOST /receive_data HTTP/1.1\u001b[0m\" 200 -\n",
      "127.0.0.1 - - [04/Jun/2021 13:06:37] \"\u001b[37mGET /get_employee_list HTTP/1.1\u001b[0m\" 200 -\n",
      "127.0.0.1 - - [04/Jun/2021 13:06:37] \"\u001b[31m\u001b[1mGET /receive_data HTTP/1.1\u001b[0m\" 405 -\n",
      "127.0.0.1 - - [04/Jun/2021 13:06:37] \"\u001b[37mGET /get_5_last_entries HTTP/1.1\u001b[0m\" 200 -\n",
      "127.0.0.1 - - [04/Jun/2021 13:06:37] \"\u001b[37mGET /get_employee_list HTTP/1.1\u001b[0m\" 200 -\n",
      "127.0.0.1 - - [04/Jun/2021 13:06:37] \"\u001b[37mGET /get_employee_list HTTP/1.1\u001b[0m\" 200 -\n",
      "127.0.0.1 - - [04/Jun/2021 13:06:37] \"\u001b[37mGET /get_5_last_entries HTTP/1.1\u001b[0m\" 200 -\n",
      "127.0.0.1 - - [04/Jun/2021 13:06:37] \"\u001b[37mGET /get_employee_list HTTP/1.1\u001b[0m\" 200 -\n",
      "127.0.0.1 - - [04/Jun/2021 13:06:37] \"\u001b[37mGET /get_employee_list HTTP/1.1\u001b[0m\" 200 -\n"
     ]
    },
    {
     "name": "stdout",
     "output_type": "stream",
     "text": [
      "user IN\n",
      "PostgreSQL connection is closed\n"
     ]
    },
    {
     "name": "stderr",
     "output_type": "stream",
     "text": [
      "127.0.0.1 - - [04/Jun/2021 13:06:41] \"\u001b[37mPOST /receive_data HTTP/1.1\u001b[0m\" 200 -\n"
     ]
    },
    {
     "name": "stdout",
     "output_type": "stream",
     "text": [
      "user IN\n",
      "PostgreSQL connection is closed\n"
     ]
    },
    {
     "name": "stderr",
     "output_type": "stream",
     "text": [
      "127.0.0.1 - - [04/Jun/2021 13:06:44] \"\u001b[37mPOST /receive_data HTTP/1.1\u001b[0m\" 200 -\n"
     ]
    },
    {
     "name": "stdout",
     "output_type": "stream",
     "text": [
      "user IN\n"
     ]
    },
    {
     "name": "stderr",
     "output_type": "stream",
     "text": [
      "127.0.0.1 - - [04/Jun/2021 13:06:48] \"\u001b[37mPOST /receive_data HTTP/1.1\u001b[0m\" 200 -\n"
     ]
    },
    {
     "name": "stdout",
     "output_type": "stream",
     "text": [
      "PostgreSQL connection is closed\n",
      "user IN\n",
      "PostgreSQL connection is closed\n"
     ]
    },
    {
     "name": "stderr",
     "output_type": "stream",
     "text": [
      "127.0.0.1 - - [04/Jun/2021 13:06:52] \"\u001b[37mPOST /receive_data HTTP/1.1\u001b[0m\" 200 -\n"
     ]
    },
    {
     "name": "stdout",
     "output_type": "stream",
     "text": [
      "user IN\n",
      "PostgreSQL connection is closed\n"
     ]
    },
    {
     "name": "stderr",
     "output_type": "stream",
     "text": [
      "127.0.0.1 - - [04/Jun/2021 13:06:56] \"\u001b[37mPOST /receive_data HTTP/1.1\u001b[0m\" 200 -\n"
     ]
    },
    {
     "name": "stdout",
     "output_type": "stream",
     "text": [
      "user IN\n",
      "PostgreSQL connection is closed\n"
     ]
    },
    {
     "name": "stderr",
     "output_type": "stream",
     "text": [
      "127.0.0.1 - - [04/Jun/2021 13:07:00] \"\u001b[37mPOST /receive_data HTTP/1.1\u001b[0m\" 200 -\n"
     ]
    },
    {
     "name": "stdout",
     "output_type": "stream",
     "text": [
      "user IN\n",
      "PostgreSQL connection is closed\n"
     ]
    },
    {
     "name": "stderr",
     "output_type": "stream",
     "text": [
      "127.0.0.1 - - [04/Jun/2021 13:07:12] \"\u001b[37mPOST /receive_data HTTP/1.1\u001b[0m\" 200 -\n"
     ]
    },
    {
     "name": "stdout",
     "output_type": "stream",
     "text": [
      "user IN\n",
      "PostgreSQL connection is closed\n"
     ]
    },
    {
     "name": "stderr",
     "output_type": "stream",
     "text": [
      "127.0.0.1 - - [04/Jun/2021 13:07:16] \"\u001b[37mPOST /receive_data HTTP/1.1\u001b[0m\" 200 -\n"
     ]
    },
    {
     "name": "stdout",
     "output_type": "stream",
     "text": [
      "user IN\n",
      "PostgreSQL connection is closed\n"
     ]
    },
    {
     "name": "stderr",
     "output_type": "stream",
     "text": [
      "127.0.0.1 - - [04/Jun/2021 13:07:22] \"\u001b[37mPOST /receive_data HTTP/1.1\u001b[0m\" 200 -\n"
     ]
    },
    {
     "name": "stdout",
     "output_type": "stream",
     "text": [
      "user IN\n",
      "PostgreSQL connection is closed\n"
     ]
    },
    {
     "name": "stderr",
     "output_type": "stream",
     "text": [
      "127.0.0.1 - - [04/Jun/2021 13:07:26] \"\u001b[37mPOST /receive_data HTTP/1.1\u001b[0m\" 200 -\n"
     ]
    },
    {
     "name": "stdout",
     "output_type": "stream",
     "text": [
      "user IN\n",
      "PostgreSQL connection is closed\n"
     ]
    },
    {
     "name": "stderr",
     "output_type": "stream",
     "text": [
      "127.0.0.1 - - [04/Jun/2021 13:07:29] \"\u001b[37mPOST /receive_data HTTP/1.1\u001b[0m\" 200 -\n"
     ]
    },
    {
     "name": "stdout",
     "output_type": "stream",
     "text": [
      "user IN\n",
      "PostgreSQL connection is closed\n"
     ]
    },
    {
     "name": "stderr",
     "output_type": "stream",
     "text": [
      "127.0.0.1 - - [04/Jun/2021 13:07:33] \"\u001b[37mPOST /receive_data HTTP/1.1\u001b[0m\" 200 -\n",
      "127.0.0.1 - - [04/Jun/2021 13:07:38] \"\u001b[37mGET /get_employee_list HTTP/1.1\u001b[0m\" 200 -\n",
      "127.0.0.1 - - [04/Jun/2021 13:07:39] \"\u001b[31m\u001b[1mGET /receive_data HTTP/1.1\u001b[0m\" 405 -\n",
      "127.0.0.1 - - [04/Jun/2021 13:07:39] \"\u001b[37mGET /get_5_last_entries HTTP/1.1\u001b[0m\" 200 -\n",
      "127.0.0.1 - - [04/Jun/2021 13:07:39] \"\u001b[37mGET /get_5_last_entries HTTP/1.1\u001b[0m\" 200 -\n",
      "127.0.0.1 - - [04/Jun/2021 13:07:39] \"\u001b[37mGET /get_employee_list HTTP/1.1\u001b[0m\" 200 -\n",
      "127.0.0.1 - - [04/Jun/2021 13:07:39] \"\u001b[37mGET /get_employee_list HTTP/1.1\u001b[0m\" 200 -\n",
      "127.0.0.1 - - [04/Jun/2021 13:07:40] \"\u001b[37mGET /get_employee_list HTTP/1.1\u001b[0m\" 200 -\n",
      "127.0.0.1 - - [04/Jun/2021 13:07:40] \"\u001b[37mGET /get_employee_list HTTP/1.1\u001b[0m\" 200 -\n"
     ]
    },
    {
     "name": "stdout",
     "output_type": "stream",
     "text": [
      "user IN\n",
      "PostgreSQL connection is closed\n"
     ]
    },
    {
     "name": "stderr",
     "output_type": "stream",
     "text": [
      "127.0.0.1 - - [04/Jun/2021 13:07:44] \"\u001b[37mPOST /receive_data HTTP/1.1\u001b[0m\" 200 -\n"
     ]
    },
    {
     "name": "stdout",
     "output_type": "stream",
     "text": [
      "user IN\n",
      "PostgreSQL connection is closed\n"
     ]
    },
    {
     "name": "stderr",
     "output_type": "stream",
     "text": [
      "127.0.0.1 - - [04/Jun/2021 13:07:48] \"\u001b[37mPOST /receive_data HTTP/1.1\u001b[0m\" 200 -\n"
     ]
    },
    {
     "name": "stdout",
     "output_type": "stream",
     "text": [
      "user IN\n",
      "PostgreSQL connection is closed\n"
     ]
    },
    {
     "name": "stderr",
     "output_type": "stream",
     "text": [
      "127.0.0.1 - - [04/Jun/2021 13:07:52] \"\u001b[37mPOST /receive_data HTTP/1.1\u001b[0m\" 200 -\n"
     ]
    },
    {
     "name": "stdout",
     "output_type": "stream",
     "text": [
      "user IN\n",
      "PostgreSQL connection is closed\n"
     ]
    },
    {
     "name": "stderr",
     "output_type": "stream",
     "text": [
      "127.0.0.1 - - [04/Jun/2021 13:07:58] \"\u001b[31m\u001b[1mGET /receive_data HTTP/1.1\u001b[0m\" 405 -\n",
      "127.0.0.1 - - [04/Jun/2021 13:07:58] \"\u001b[37mPOST /receive_data HTTP/1.1\u001b[0m\" 200 -\n",
      "127.0.0.1 - - [04/Jun/2021 13:07:59] \"\u001b[37mGET /get_employee_list HTTP/1.1\u001b[0m\" 200 -\n",
      "127.0.0.1 - - [04/Jun/2021 13:07:59] \"\u001b[37mGET /get_employee_list HTTP/1.1\u001b[0m\" 200 -\n"
     ]
    },
    {
     "name": "stdout",
     "output_type": "stream",
     "text": [
      "user IN\n",
      "PostgreSQL connection is closed\n"
     ]
    },
    {
     "name": "stderr",
     "output_type": "stream",
     "text": [
      "127.0.0.1 - - [04/Jun/2021 13:08:02] \"\u001b[37mPOST /receive_data HTTP/1.1\u001b[0m\" 200 -\n"
     ]
    },
    {
     "name": "stdout",
     "output_type": "stream",
     "text": [
      "user IN\n",
      "PostgreSQL connection is closed\n"
     ]
    },
    {
     "name": "stderr",
     "output_type": "stream",
     "text": [
      "127.0.0.1 - - [04/Jun/2021 13:08:06] \"\u001b[37mPOST /receive_data HTTP/1.1\u001b[0m\" 200 -\n"
     ]
    },
    {
     "name": "stdout",
     "output_type": "stream",
     "text": [
      "user IN\n",
      "PostgreSQL connection is closed\n"
     ]
    },
    {
     "name": "stderr",
     "output_type": "stream",
     "text": [
      "127.0.0.1 - - [04/Jun/2021 13:08:11] \"\u001b[37mPOST /receive_data HTTP/1.1\u001b[0m\" 200 -\n"
     ]
    },
    {
     "name": "stdout",
     "output_type": "stream",
     "text": [
      "user IN\n",
      "PostgreSQL connection is closed\n"
     ]
    },
    {
     "name": "stderr",
     "output_type": "stream",
     "text": [
      "127.0.0.1 - - [04/Jun/2021 13:08:14] \"\u001b[37mPOST /receive_data HTTP/1.1\u001b[0m\" 200 -\n"
     ]
    },
    {
     "name": "stdout",
     "output_type": "stream",
     "text": [
      "user IN\n"
     ]
    },
    {
     "name": "stderr",
     "output_type": "stream",
     "text": [
      "127.0.0.1 - - [04/Jun/2021 13:08:18] \"\u001b[37mPOST /receive_data HTTP/1.1\u001b[0m\" 200 -\n"
     ]
    },
    {
     "name": "stdout",
     "output_type": "stream",
     "text": [
      "PostgreSQL connection is closed\n",
      "user IN\n"
     ]
    },
    {
     "name": "stderr",
     "output_type": "stream",
     "text": [
      "127.0.0.1 - - [04/Jun/2021 13:08:29] \"\u001b[37mPOST /receive_data HTTP/1.1\u001b[0m\" 200 -\n"
     ]
    },
    {
     "name": "stdout",
     "output_type": "stream",
     "text": [
      "PostgreSQL connection is closed\n",
      "user IN\n",
      "PostgreSQL connection is closed\n"
     ]
    },
    {
     "name": "stderr",
     "output_type": "stream",
     "text": [
      "127.0.0.1 - - [04/Jun/2021 13:08:35] \"\u001b[37mPOST /receive_data HTTP/1.1\u001b[0m\" 200 -\n"
     ]
    },
    {
     "name": "stdout",
     "output_type": "stream",
     "text": [
      "user IN\n",
      "PostgreSQL connection is closed\n"
     ]
    },
    {
     "name": "stderr",
     "output_type": "stream",
     "text": [
      "127.0.0.1 - - [04/Jun/2021 13:08:38] \"\u001b[37mPOST /receive_data HTTP/1.1\u001b[0m\" 200 -\n"
     ]
    },
    {
     "name": "stdout",
     "output_type": "stream",
     "text": [
      "user IN\n",
      "PostgreSQL connection is closed\n"
     ]
    },
    {
     "name": "stderr",
     "output_type": "stream",
     "text": [
      "127.0.0.1 - - [04/Jun/2021 13:08:42] \"\u001b[37mPOST /receive_data HTTP/1.1\u001b[0m\" 200 -\n"
     ]
    },
    {
     "name": "stdout",
     "output_type": "stream",
     "text": [
      "user IN\n",
      "PostgreSQL connection is closed\n"
     ]
    },
    {
     "name": "stderr",
     "output_type": "stream",
     "text": [
      "127.0.0.1 - - [04/Jun/2021 13:08:46] \"\u001b[37mPOST /receive_data HTTP/1.1\u001b[0m\" 200 -\n"
     ]
    },
    {
     "name": "stdout",
     "output_type": "stream",
     "text": [
      "user IN\n",
      "PostgreSQL connection is closed\n"
     ]
    },
    {
     "name": "stderr",
     "output_type": "stream",
     "text": [
      "127.0.0.1 - - [04/Jun/2021 13:08:50] \"\u001b[37mPOST /receive_data HTTP/1.1\u001b[0m\" 200 -\n"
     ]
    },
    {
     "name": "stdout",
     "output_type": "stream",
     "text": [
      "user IN\n",
      "PostgreSQL connection is closed\n"
     ]
    },
    {
     "name": "stderr",
     "output_type": "stream",
     "text": [
      "127.0.0.1 - - [04/Jun/2021 13:08:58] \"\u001b[37mPOST /receive_data HTTP/1.1\u001b[0m\" 200 -\n"
     ]
    },
    {
     "name": "stdout",
     "output_type": "stream",
     "text": [
      "user IN\n",
      "PostgreSQL connection is closed\n"
     ]
    },
    {
     "name": "stderr",
     "output_type": "stream",
     "text": [
      "127.0.0.1 - - [04/Jun/2021 13:09:03] \"\u001b[37mPOST /receive_data HTTP/1.1\u001b[0m\" 200 -\n"
     ]
    },
    {
     "name": "stdout",
     "output_type": "stream",
     "text": [
      "user IN\n",
      "PostgreSQL connection is closed\n"
     ]
    },
    {
     "name": "stderr",
     "output_type": "stream",
     "text": [
      "127.0.0.1 - - [04/Jun/2021 13:09:07] \"\u001b[37mPOST /receive_data HTTP/1.1\u001b[0m\" 200 -\n"
     ]
    },
    {
     "name": "stdout",
     "output_type": "stream",
     "text": [
      "user IN\n",
      "PostgreSQL connection is closed\n"
     ]
    },
    {
     "name": "stderr",
     "output_type": "stream",
     "text": [
      "127.0.0.1 - - [04/Jun/2021 13:09:14] \"\u001b[37mPOST /receive_data HTTP/1.1\u001b[0m\" 200 -\n"
     ]
    },
    {
     "name": "stdout",
     "output_type": "stream",
     "text": [
      "user IN\n",
      "PostgreSQL connection is closed\n"
     ]
    },
    {
     "name": "stderr",
     "output_type": "stream",
     "text": [
      "127.0.0.1 - - [04/Jun/2021 13:09:19] \"\u001b[37mPOST /receive_data HTTP/1.1\u001b[0m\" 200 -\n"
     ]
    },
    {
     "name": "stdout",
     "output_type": "stream",
     "text": [
      "user IN\n",
      "PostgreSQL connection is closed\n"
     ]
    },
    {
     "name": "stderr",
     "output_type": "stream",
     "text": [
      "127.0.0.1 - - [04/Jun/2021 13:09:22] \"\u001b[37mPOST /receive_data HTTP/1.1\u001b[0m\" 200 -\n"
     ]
    },
    {
     "name": "stdout",
     "output_type": "stream",
     "text": [
      "user IN\n",
      "PostgreSQL connection is closed\n"
     ]
    },
    {
     "name": "stderr",
     "output_type": "stream",
     "text": [
      "127.0.0.1 - - [04/Jun/2021 13:10:46] \"\u001b[37mPOST /receive_data HTTP/1.1\u001b[0m\" 200 -\n"
     ]
    },
    {
     "name": "stdout",
     "output_type": "stream",
     "text": [
      "user IN\n",
      "PostgreSQL connection is closed\n"
     ]
    },
    {
     "name": "stderr",
     "output_type": "stream",
     "text": [
      "127.0.0.1 - - [04/Jun/2021 13:10:50] \"\u001b[37mPOST /receive_data HTTP/1.1\u001b[0m\" 200 -\n"
     ]
    },
    {
     "name": "stdout",
     "output_type": "stream",
     "text": [
      "user IN\n"
     ]
    },
    {
     "name": "stderr",
     "output_type": "stream",
     "text": [
      "127.0.0.1 - - [04/Jun/2021 13:10:55] \"\u001b[37mPOST /receive_data HTTP/1.1\u001b[0m\" 200 -\n"
     ]
    },
    {
     "name": "stdout",
     "output_type": "stream",
     "text": [
      "PostgreSQL connection is closed\n",
      "user IN\n",
      "PostgreSQL connection is closed\n"
     ]
    },
    {
     "name": "stderr",
     "output_type": "stream",
     "text": [
      "127.0.0.1 - - [04/Jun/2021 13:11:01] \"\u001b[37mPOST /receive_data HTTP/1.1\u001b[0m\" 200 -\n"
     ]
    },
    {
     "name": "stdout",
     "output_type": "stream",
     "text": [
      "user IN\n",
      "PostgreSQL connection is closed\n"
     ]
    },
    {
     "name": "stderr",
     "output_type": "stream",
     "text": [
      "127.0.0.1 - - [04/Jun/2021 13:11:12] \"\u001b[37mPOST /receive_data HTTP/1.1\u001b[0m\" 200 -\n"
     ]
    },
    {
     "name": "stdout",
     "output_type": "stream",
     "text": [
      "user IN\n",
      "PostgreSQL connection is closed\n"
     ]
    },
    {
     "name": "stderr",
     "output_type": "stream",
     "text": [
      "127.0.0.1 - - [04/Jun/2021 13:11:20] \"\u001b[37mPOST /receive_data HTTP/1.1\u001b[0m\" 200 -\n"
     ]
    },
    {
     "name": "stdout",
     "output_type": "stream",
     "text": [
      "user IN\n",
      "PostgreSQL connection is closed\n"
     ]
    },
    {
     "name": "stderr",
     "output_type": "stream",
     "text": [
      "127.0.0.1 - - [04/Jun/2021 13:11:29] \"\u001b[37mPOST /receive_data HTTP/1.1\u001b[0m\" 200 -\n"
     ]
    },
    {
     "name": "stdout",
     "output_type": "stream",
     "text": [
      "user IN\n",
      "PostgreSQL connection is closed\n"
     ]
    },
    {
     "name": "stderr",
     "output_type": "stream",
     "text": [
      "127.0.0.1 - - [04/Jun/2021 13:11:41] \"\u001b[37mPOST /receive_data HTTP/1.1\u001b[0m\" 200 -\n"
     ]
    },
    {
     "name": "stdout",
     "output_type": "stream",
     "text": [
      "user IN\n",
      "PostgreSQL connection is closed\n"
     ]
    },
    {
     "name": "stderr",
     "output_type": "stream",
     "text": [
      "127.0.0.1 - - [04/Jun/2021 13:11:48] \"\u001b[37mPOST /receive_data HTTP/1.1\u001b[0m\" 200 -\n"
     ]
    },
    {
     "name": "stdout",
     "output_type": "stream",
     "text": [
      "user IN\n",
      "PostgreSQL connection is closed\n"
     ]
    },
    {
     "name": "stderr",
     "output_type": "stream",
     "text": [
      "127.0.0.1 - - [04/Jun/2021 13:11:52] \"\u001b[37mPOST /receive_data HTTP/1.1\u001b[0m\" 200 -\n"
     ]
    },
    {
     "name": "stdout",
     "output_type": "stream",
     "text": [
      "user IN\n",
      "PostgreSQL connection is closed\n"
     ]
    },
    {
     "name": "stderr",
     "output_type": "stream",
     "text": [
      "127.0.0.1 - - [04/Jun/2021 13:11:58] \"\u001b[37mPOST /receive_data HTTP/1.1\u001b[0m\" 200 -\n"
     ]
    },
    {
     "name": "stdout",
     "output_type": "stream",
     "text": [
      "user IN\n",
      "PostgreSQL connection is closed\n"
     ]
    },
    {
     "name": "stderr",
     "output_type": "stream",
     "text": [
      "127.0.0.1 - - [04/Jun/2021 13:12:02] \"\u001b[37mPOST /receive_data HTTP/1.1\u001b[0m\" 200 -\n"
     ]
    },
    {
     "name": "stdout",
     "output_type": "stream",
     "text": [
      "user IN\n",
      "PostgreSQL connection is closed\n"
     ]
    },
    {
     "name": "stderr",
     "output_type": "stream",
     "text": [
      "127.0.0.1 - - [04/Jun/2021 13:12:06] \"\u001b[37mPOST /receive_data HTTP/1.1\u001b[0m\" 200 -\n"
     ]
    },
    {
     "name": "stdout",
     "output_type": "stream",
     "text": [
      "user IN\n",
      "PostgreSQL connection is closed\n"
     ]
    },
    {
     "name": "stderr",
     "output_type": "stream",
     "text": [
      "127.0.0.1 - - [04/Jun/2021 13:12:10] \"\u001b[37mPOST /receive_data HTTP/1.1\u001b[0m\" 200 -\n"
     ]
    },
    {
     "name": "stdout",
     "output_type": "stream",
     "text": [
      "user IN\n",
      "PostgreSQL connection is closed\n"
     ]
    },
    {
     "name": "stderr",
     "output_type": "stream",
     "text": [
      "127.0.0.1 - - [04/Jun/2021 13:12:21] \"\u001b[37mPOST /receive_data HTTP/1.1\u001b[0m\" 200 -\n"
     ]
    }
   ],
   "source": [
    "# * ---------- IMPORTS --------- *\n",
    "from flask import Flask, request, jsonify\n",
    "from flask_cors import CORS, cross_origin\n",
    "import os\n",
    "import psycopg2\n",
    "import cv2\n",
    "import numpy as np\n",
    "import re\n",
    "\n",
    "\n",
    "\n",
    "# Get the relativ path to this file (we will use it later)\n",
    "FILE_PATH =\"./\"\n",
    "#os.path.dirname(os.path.realpath(__file__))\n",
    "\n",
    "# * ---------- Create App --------- *\n",
    "app = Flask(__name__)\n",
    "CORS(app, support_credentials=True)\n",
    "\n",
    "\n",
    "\n",
    "def DATABASE_CONNECTION():\n",
    "    return psycopg2.connect(host=\"localhost\",database=\"pks\",user=\"postgres\",password=\"123456\")\n",
    "\n",
    "\n",
    "\n",
    "# * --------------------  ROUTES ------------------- *\n",
    "# * ---------- Get data from the face recognition ---------- *\n",
    "@app.route('/receive_data', methods=['POST'])\n",
    "def get_receive_data():\n",
    "    if request.method == 'POST':\n",
    "        json_data = request.get_json()\n",
    "\n",
    "        # Check if the user is already in the DB\n",
    "        try:\n",
    "            # Connect to the DB\n",
    "            connection = DATABASE_CONNECTION()\n",
    "            cursor = connection.cursor()\n",
    "\n",
    "            # Query to check if the user as been saw by the camera today\n",
    "            user_saw_today_sql_query =\\\n",
    "                f\"SELECT * FROM users WHERE date = '{json_data['date']}' AND name = '{json_data['name']}'\"\n",
    "\n",
    "            cursor.execute(user_saw_today_sql_query)\n",
    "            result = cursor.fetchall()\n",
    "            connection.commit()\n",
    "\n",
    "            # If use is already in the DB for today:\n",
    "            if result:\n",
    "               print('user IN')\n",
    "               image_path = f\"{FILE_PATH}/assets/img/{json_data['date']}/{json_data['name']}/departure.jpg\"\n",
    "\n",
    "                # Save image\n",
    "               os.makedirs(f\"{FILE_PATH}/assets/img/{json_data['date']}/{json_data['name']}\", exist_ok=True)\n",
    "               cv2.imwrite(image_path, np.array(json_data['picture_array']))\n",
    "               json_data['picture_path'] = image_path\n",
    "\n",
    "                # Update user in the DB\n",
    "               update_user_querry = f\"UPDATE users SET departure_time = '{json_data['hour']}', departure_picture = '{json_data['picture_path']}' WHERE name = '{json_data['name']}' AND date = '{json_data['date']}'\"\n",
    "               cursor.execute(update_user_querry)\n",
    "\n",
    "            else:\n",
    "                print(\"user OUT\")\n",
    "                # Save image\n",
    "                image_path = f\"{FILE_PATH}/assets/img/history/{json_data['date']}/{json_data['name']}/arrival.jpg\"\n",
    "                os.makedirs(f\"{FILE_PATH}/assets/img/history/{json_data['date']}/{json_data['name']}\", exist_ok=True)\n",
    "                cv2.imwrite(image_path, np.array(json_data['picture_array']))\n",
    "                json_data['picture_path'] = image_path\n",
    "\n",
    "                # Create a new row for the user today:\n",
    "                insert_user_querry = f\"INSERT INTO users (name, date, arrival_time, arrival_picture) VALUES ('{json_data['name']}', '{json_data['date']}', '{json_data['hour']}', '{json_data['picture_path']}')\"\n",
    "                cursor.execute(insert_user_querry)\n",
    "\n",
    "        except (Exception, psycopg2.DatabaseError) as error:\n",
    "            print(\"ERROR DB: \", error)\n",
    "        finally:\n",
    "            connection.commit()\n",
    "\n",
    "            # closing database connection.\n",
    "            if connection:\n",
    "                cursor.close()\n",
    "                connection.close()\n",
    "                print(\"PostgreSQL connection is closed\")\n",
    "\n",
    "        # Return user's data to the front\n",
    "        return jsonify(json_data)\n",
    "\n",
    "\n",
    "# * ---------- Get all the data of an employee ---------- *\n",
    "@app.route('/get_employee/<string:name>', methods=['GET'])\n",
    "def get_employee(name):\n",
    "    answer_to_send = {}\n",
    "    # Check if the user is already in the DB\n",
    "    try:\n",
    "        # Connect to DB\n",
    "        connection = DATABASE_CONNECTION()\n",
    "        cursor = connection.cursor()\n",
    "        # Query the DB to get all the data of a user:\n",
    "        user_information_sql_query = f\"SELECT * FROM users WHERE name = '{name}'\"\n",
    "\n",
    "        cursor.execute(user_information_sql_query)\n",
    "        result = cursor.fetchall()\n",
    "        connection.commit()\n",
    "\n",
    "        # if the user exist in the db:\n",
    "        if result:\n",
    "            print('RESULT: ',result)\n",
    "            # Structure the data and put the dates in string for the front\n",
    "            for k,v in enumerate(result):\n",
    "                answer_to_send[k] = {}\n",
    "                for ko,vo in enumerate(result[k]):\n",
    "                    answer_to_send[k][ko] = str(vo)\n",
    "            print('answer_to_send: ', answer_to_send)\n",
    "        else:\n",
    "            answer_to_send = {'error': 'User not found...'}\n",
    "\n",
    "    except (Exception, psycopg2.DatabaseError) as error:\n",
    "        print(\"ERROR DB: \", error)\n",
    "    finally:\n",
    "        # closing database connection:\n",
    "        if (connection):\n",
    "            cursor.close()\n",
    "            connection.close()\n",
    "\n",
    "    # Return the user's data to the front\n",
    "    return jsonify(answer_to_send)\n",
    "\n",
    "\n",
    "# * --------- Get the 5 last users seen by the camera --------- *\n",
    "@app.route('/get_5_last_entries', methods=['GET'])\n",
    "def get_5_last_entries():\n",
    "    answer_to_send = {}\n",
    "    # Check if the user is already in the DB\n",
    "    try:\n",
    "        # Connect to DB\n",
    "        connection = DATABASE_CONNECTION()\n",
    "\n",
    "        cursor = connection.cursor()\n",
    "        # Query the DB to get all the data of a user:\n",
    "        lasts_entries_sql_query = f\"SELECT * FROM users ORDER BY id DESC LIMIT 5;\"\n",
    "\n",
    "        cursor.execute(lasts_entries_sql_query)\n",
    "        result = cursor.fetchall()\n",
    "        connection.commit()\n",
    "\n",
    "        # if DB is not empty:\n",
    "        if result:\n",
    "            # Structure the data and put the dates in string for the front\n",
    "            for k, v in enumerate(result):\n",
    "                answer_to_send[k] = {}\n",
    "                for ko, vo in enumerate(result[k]):\n",
    "                    answer_to_send[k][ko] = str(vo)\n",
    "        else:\n",
    "            answer_to_send = {'error': 'error detect'}\n",
    "\n",
    "    except (Exception, psycopg2.DatabaseError) as error:\n",
    "        print(\"ERROR DB: \", error)\n",
    "    finally:\n",
    "        # closing database connection:\n",
    "        if (connection):\n",
    "            cursor.close()\n",
    "            connection.close()\n",
    "\n",
    "    # Return the user's data to the front\n",
    "    return jsonify(answer_to_send)\n",
    "\n",
    "\n",
    "# * ---------- Add new employee ---------- *\n",
    "@app.route('/add_employee', methods=['POST'])\n",
    "@cross_origin(supports_credentials=True)\n",
    "def add_employee():\n",
    "    try:\n",
    "        # Get the picture from the request\n",
    "        image_file = request.files['image']\n",
    "        print(request.form['nameOfEmployee'])\n",
    "\n",
    "        # Store it in the folder of the know faces:\n",
    "        file_path = os.path.join(f\"assets/img/users/{request.form['nameOfEmployee']}.jpg\")\n",
    "        image_file.save(file_path)\n",
    "        answer = 'new employee succesfully added'\n",
    "    except:\n",
    "        answer = 'Error while adding new employee. Please try later...'\n",
    "    return jsonify(answer)\n",
    "\n",
    "\n",
    "# * ---------- Get employee list ---------- *\n",
    "@app.route('/get_employee_list', methods=['GET'])\n",
    "def get_employee_list():\n",
    "    employee_list = {}\n",
    "\n",
    "    # Walk in the user folder to get the user list\n",
    "    walk_count = 0\n",
    "    for file_name in os.listdir(f\"{FILE_PATH}/assets/img/users/\"):\n",
    "        # Capture the employee's name with the file's name\n",
    "        name = re.findall(\"(.*)\\.jpg\", file_name)\n",
    "        if name:\n",
    "            employee_list[walk_count] = name[0]\n",
    "        walk_count += 1\n",
    "\n",
    "    return jsonify(employee_list)\n",
    "\n",
    "\n",
    "# * ---------- Delete employee ---------- *\n",
    "@app.route('/delete_employee/<string:name>', methods=['GET'])\n",
    "def delete_employee(name):\n",
    "    try:\n",
    "        # Remove the picture of the employee from the user's folder:\n",
    "        print('name: ', name)\n",
    "        file_path = os.path.join(f'assets/img/users/{name}.jpg')\n",
    "        os.remove(file_path)\n",
    "        answer = 'Employee succesfully removed'\n",
    "    except:\n",
    "        answer = 'Error while deleting new employee. Please try later'\n",
    "\n",
    "    return jsonify(answer)\n",
    "\n",
    "\n",
    "                                 \n",
    "# * -------------------- RUN SERVER -------------------- *\n",
    "if __name__ == '__main__':\n",
    "    # * --- DEBUG MODE: --- *\n",
    "    app.run(host='127.0.0.1', port=5000)\n",
    "    #  * --- DOCKER PRODUCTION MODE: --- *\n",
    "    # app.run(host='0.0.0.0', port=os.environ['PORT']) -> DOCKER\n"
   ]
  },
  {
   "cell_type": "code",
   "execution_count": 2,
   "id": "straight-lotus",
   "metadata": {},
   "outputs": [],
   "source": []
  },
  {
   "cell_type": "code",
   "execution_count": 3,
   "id": "bda8e89d",
   "metadata": {},
   "outputs": [
    {
     "name": "stderr",
     "output_type": "stream",
     "text": [
      "No traceback available to show.\n"
     ]
    }
   ],
   "source": [
    "%tb"
   ]
  },
  {
   "cell_type": "code",
   "execution_count": null,
   "id": "49bf7018",
   "metadata": {},
   "outputs": [],
   "source": []
  }
 ],
 "metadata": {
  "kernelspec": {
   "display_name": "Python 3",
   "language": "python",
   "name": "python3"
  },
  "language_info": {
   "codemirror_mode": {
    "name": "ipython",
    "version": 3
   },
   "file_extension": ".py",
   "mimetype": "text/x-python",
   "name": "python",
   "nbconvert_exporter": "python",
   "pygments_lexer": "ipython3",
   "version": "3.6.13"
  }
 },
 "nbformat": 4,
 "nbformat_minor": 5
}
